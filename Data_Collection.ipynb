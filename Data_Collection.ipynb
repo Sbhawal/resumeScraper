{
 "cells": [
  {
   "cell_type": "code",
   "execution_count": 1,
   "id": "f42996f5",
   "metadata": {},
   "outputs": [],
   "source": [
    "# IMPORTS\n",
    "\n",
    "from bs4 import BeautifulSoup\n",
    "import bs4\n",
    "import requests\n",
    "from selenium import webdriver\n",
    "\n",
    "import pandas as pd\n",
    "import numpy as np"
   ]
  },
  {
   "cell_type": "code",
   "execution_count": 2,
   "id": "8dd5cf58",
   "metadata": {},
   "outputs": [],
   "source": [
    "# USING SPACY FOR WEB SCRAPPING\n",
    "\n",
    "driver = webdriver.Chrome(\"chromedriver.exe\")"
   ]
  },
  {
   "cell_type": "code",
   "execution_count": 3,
   "id": "f2476a95",
   "metadata": {},
   "outputs": [],
   "source": [
    "# LIST OF UNIQUE CATEGORIES THAT WAS NEEDED FOR THE DATASET.\n",
    "# ADD OR SUBTRACT LABELS AS NEEDED\n",
    "\n",
    "job_list = ['HR', 'designer', 'Information-Technology',\n",
    "       'Teacher', 'Advocate', 'Business-Development',\n",
    "       'Healthcare', 'Fitness', 'Agriculture', 'BPO', 'Sales', 'Consultant',\n",
    "       'Digital-Media', 'Automobile', 'Chef', 'Finance',\n",
    "       'Apparel', 'Engineering', 'Accountant', 'Construction',\n",
    "       'Public-Relations', 'Banking', 'Arts', 'Aviation']"
   ]
  },
  {
   "cell_type": "code",
   "execution_count": 4,
   "id": "2ec4c027",
   "metadata": {},
   "outputs": [],
   "source": [
    "# CREATING A DATAFRAME TO STORE THE LINKS OF EACH INDIVIDUAL RESUME EXAMPLE\n",
    "\n",
    "resume_links = pd.DataFrame()\n",
    "category = []\n",
    "link = []"
   ]
  },
  {
   "cell_type": "code",
   "execution_count": 5,
   "id": "d8074304",
   "metadata": {},
   "outputs": [],
   "source": [
    "# LOOP TO SEARCH FOR RESUME EXAMPLES FROM THE WEBPAGE AS PER THE LABELS DEFINED ABOVE. ONLY (10*12) 120 RESUMES WILL BE COLLECTED.\n",
    "\n",
    "# REMOVE  \"&bg=85&eg=100&comp=&mod=\"  TO EXPAND THE SEARCH \n",
    "# (bg=85 & eg=100) FILTERS THE RESUME BASED ON SCORE OF BETWEEEN 85 AND 100, INCREASE RANGE TO EXPAND SEARCH\n",
    "\n",
    "for job in job_list:\n",
    "    JOB = job.lower()\n",
    "    for i in range(1,13):   # INCREASE THE RANGE TO GET MORE RESUME DATA\n",
    "        PAGE = str(i)\n",
    "        URL = \"https://www.livecareer.com/resume-search/search?jt=\" + JOB + \"&bg=85&eg=100&comp=&mod=&pg=\" + PAGE\n",
    "        driver.get(URL)\n",
    "        aTagsInLi = driver.find_elements_by_css_selector('li a')\n",
    "        for a in aTagsInLi:\n",
    "            if a.get_attribute('rel') == \"ugc\":\n",
    "                category.append(JOB)\n",
    "                link.append(a.get_attribute('href'))\n",
    "    "
   ]
  },
  {
   "cell_type": "code",
   "execution_count": 6,
   "id": "79ccebe9",
   "metadata": {},
   "outputs": [],
   "source": [
    "# STORES THE CATEGORY AND LINK TO THE RESUME WEBPAGE\n",
    "\n",
    "resume_links[\"Category\"] = category\n",
    "resume_links[\"link\"] = link"
   ]
  },
  {
   "cell_type": "code",
   "execution_count": 7,
   "id": "458ca2f0",
   "metadata": {},
   "outputs": [],
   "source": [
    "# HASHES THE LINK AND CREATES AN UNIQUE ID FOR THE ROWS\n",
    "\n",
    "import hashlib\n",
    "def id(x):\n",
    "    return int(hashlib.md5(x.encode('utf-8')).hexdigest(), 16)\n",
    "\n",
    "resume_links[\"id\"] = resume_links[\"link\"].apply(id)"
   ]
  },
  {
   "cell_type": "code",
   "execution_count": 8,
   "id": "a7cf1106",
   "metadata": {},
   "outputs": [],
   "source": [
    "# NUMBER OF RESUME COLLECTED PER DEFINED LABELS\n",
    "\n",
    "df.Category.value_counts()"
   ]
  },
  {
   "cell_type": "code",
   "execution_count": 10,
   "id": "6c536f59",
   "metadata": {},
   "outputs": [],
   "source": [
    "df[\"Resume\"] = \"\"\n",
    "df[\"Raw_html\"] = \"\""
   ]
  },
  {
   "cell_type": "code",
   "execution_count": 11,
   "id": "8385e05c",
   "metadata": {},
   "outputs": [],
   "source": [
    "# LOOP TO COLLECT THE RESUME DATA PRESENT IN THE LINKS AS COLECTED ABOVE\n",
    "# STORED IN HTML AS WELL AS STRING FORMAT\n",
    "\n",
    "for i in range(df.shape[0]):\n",
    "    url = df.link[i]\n",
    "    driver.get(url)\n",
    "#     time.sleep(0.5)                  #ADDED DELAY, CAN BE REMOVED\n",
    "    x = driver.page_source\n",
    "    x = x.replace(\">\",\"> \")\n",
    "    soup = bs4.BeautifulSoup(x, 'html.parser')\n",
    "    div = soup.find(\"div\", {\"id\": \"document\"})\n",
    "    df.Raw_html[i] = div\n",
    "    try:\n",
    "        df.Resume[i] = div.text\n",
    "    except:\n",
    "#         ADD EXCEPTION IF REQUIRED\n",
    "        pass\n",
    "\n"
   ]
  },
  {
   "cell_type": "code",
   "execution_count": 20,
   "id": "5b0394ac",
   "metadata": {},
   "outputs": [
    {
     "data": {
      "text/html": [
       "<div>\n",
       "<style scoped>\n",
       "    .dataframe tbody tr th:only-of-type {\n",
       "        vertical-align: middle;\n",
       "    }\n",
       "\n",
       "    .dataframe tbody tr th {\n",
       "        vertical-align: top;\n",
       "    }\n",
       "\n",
       "    .dataframe thead th {\n",
       "        text-align: right;\n",
       "    }\n",
       "</style>\n",
       "<table border=\"1\" class=\"dataframe\">\n",
       "  <thead>\n",
       "    <tr style=\"text-align: right;\">\n",
       "      <th></th>\n",
       "      <th>Category</th>\n",
       "      <th>link</th>\n",
       "      <th>id</th>\n",
       "      <th>Resume</th>\n",
       "      <th>Raw_html</th>\n",
       "    </tr>\n",
       "  </thead>\n",
       "  <tbody>\n",
       "    <tr>\n",
       "      <th>0</th>\n",
       "      <td>hr</td>\n",
       "      <td>https://www.livecareer.com/resume-search/r/hr-...</td>\n",
       "      <td>128216776680979599862713391059783413195</td>\n",
       "      <td>HR ADMINISTRATOR/MARKETING ASSOCIATE\\...</td>\n",
       "      <td>[ , [ , [ , &lt;div class=\"name\" itemprop=\"name\"&gt;...</td>\n",
       "    </tr>\n",
       "    <tr>\n",
       "      <th>1</th>\n",
       "      <td>hr</td>\n",
       "      <td>https://www.livecareer.com/resume-search/r/hr-...</td>\n",
       "      <td>201122761231557277513252090847674597006</td>\n",
       "      <td>HR SPECIALIST, US HR OPERATIONS      ...</td>\n",
       "      <td>[ , [ , [ , &lt;div class=\"name thinbottomborder\"...</td>\n",
       "    </tr>\n",
       "    <tr>\n",
       "      <th>2</th>\n",
       "      <td>hr</td>\n",
       "      <td>https://www.livecareer.com/resume-search/r/hr-...</td>\n",
       "      <td>317423129318109781526148386940790993392</td>\n",
       "      <td>HR DIRECTOR       Summary      Over 2...</td>\n",
       "      <td>[ , [ , [ , &lt;div class=\"name\" itemprop=\"name\"&gt;...</td>\n",
       "    </tr>\n",
       "    <tr>\n",
       "      <th>3</th>\n",
       "      <td>hr</td>\n",
       "      <td>https://www.livecareer.com/resume-search/r/hr-...</td>\n",
       "      <td>200997734602806164328411756164577760181</td>\n",
       "      <td>HR SPECIALIST       Summary    Dedica...</td>\n",
       "      <td>[ , [ , [ , &lt;div class=\"name\" itemprop=\"name\"&gt;...</td>\n",
       "    </tr>\n",
       "    <tr>\n",
       "      <th>4</th>\n",
       "      <td>hr</td>\n",
       "      <td>https://www.livecareer.com/resume-search/r/hr-...</td>\n",
       "      <td>162057789781141134402378787192982207371</td>\n",
       "      <td>HR MANAGER         Skill Highlights  ...</td>\n",
       "      <td>[ , [ , [ , &lt;div class=\"name\" itemprop=\"name\"&gt;...</td>\n",
       "    </tr>\n",
       "  </tbody>\n",
       "</table>\n",
       "</div>"
      ],
      "text/plain": [
       "  Category                                               link  \\\n",
       "0       hr  https://www.livecareer.com/resume-search/r/hr-...   \n",
       "1       hr  https://www.livecareer.com/resume-search/r/hr-...   \n",
       "2       hr  https://www.livecareer.com/resume-search/r/hr-...   \n",
       "3       hr  https://www.livecareer.com/resume-search/r/hr-...   \n",
       "4       hr  https://www.livecareer.com/resume-search/r/hr-...   \n",
       "\n",
       "                                        id  \\\n",
       "0  128216776680979599862713391059783413195   \n",
       "1  201122761231557277513252090847674597006   \n",
       "2  317423129318109781526148386940790993392   \n",
       "3  200997734602806164328411756164577760181   \n",
       "4  162057789781141134402378787192982207371   \n",
       "\n",
       "                                              Resume  \\\n",
       "0           HR ADMINISTRATOR/MARKETING ASSOCIATE\\...   \n",
       "1           HR SPECIALIST, US HR OPERATIONS      ...   \n",
       "2           HR DIRECTOR       Summary      Over 2...   \n",
       "3           HR SPECIALIST       Summary    Dedica...   \n",
       "4           HR MANAGER         Skill Highlights  ...   \n",
       "\n",
       "                                            Raw_html  \n",
       "0  [ , [ , [ , <div class=\"name\" itemprop=\"name\">...  \n",
       "1  [ , [ , [ , <div class=\"name thinbottomborder\"...  \n",
       "2  [ , [ , [ , <div class=\"name\" itemprop=\"name\">...  \n",
       "3  [ , [ , [ , <div class=\"name\" itemprop=\"name\">...  \n",
       "4  [ , [ , [ , <div class=\"name\" itemprop=\"name\">...  "
      ]
     },
     "execution_count": 20,
     "metadata": {},
     "output_type": "execute_result"
    }
   ],
   "source": [
    "df.head()"
   ]
  },
  {
   "cell_type": "code",
   "execution_count": 21,
   "id": "3bedc707",
   "metadata": {},
   "outputs": [],
   "source": [
    "# STORES THE DATAFRAME\n",
    "\n",
    "df.to_csv(\"Resume.csv\",index=False)"
   ]
  }
 ],
 "metadata": {
  "kernelspec": {
   "display_name": "Python 3",
   "language": "python",
   "name": "python3"
  },
  "language_info": {
   "codemirror_mode": {
    "name": "ipython",
    "version": 3
   },
   "file_extension": ".py",
   "mimetype": "text/x-python",
   "name": "python",
   "nbconvert_exporter": "python",
   "pygments_lexer": "ipython3",
   "version": "3.8.8"
  }
 },
 "nbformat": 4,
 "nbformat_minor": 5
}
